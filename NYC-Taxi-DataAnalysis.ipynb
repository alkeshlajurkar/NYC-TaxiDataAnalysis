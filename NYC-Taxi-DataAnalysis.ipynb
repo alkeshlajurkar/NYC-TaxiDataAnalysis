{
 "cells": [
  {
   "cell_type": "code",
   "execution_count": 0,
   "metadata": {
    "application/vnd.databricks.v1+cell": {
     "cellMetadata": {
      "byteLimit": 2048000,
      "rowLimit": 10000
     },
     "inputWidgets": {},
     "nuid": "a7594542-2aeb-44ff-b800-b36d87f41b98",
     "showTitle": false,
     "tableResultSettingsMap": {},
     "title": ""
    }
   },
   "outputs": [],
   "source": [
    "from pyspark.sql.functions import mean, median, mode, hour, col, count, dayofweek, corr, when\n",
    "from pyspark.sql.types import DoubleType"
   ]
  },
  {
   "cell_type": "code",
   "execution_count": 0,
   "metadata": {
    "application/vnd.databricks.v1+cell": {
     "cellMetadata": {
      "byteLimit": 2048000,
      "rowLimit": 10000
     },
     "inputWidgets": {},
     "nuid": "1944554b-24f0-4562-9a0b-7c57c5d8e69b",
     "showTitle": false,
     "tableResultSettingsMap": {},
     "title": ""
    }
   },
   "outputs": [
    {
     "output_type": "display_data",
     "data": {
      "text/html": [
       "<div>\n",
       "<style scoped>\n",
       "    .dataframe tbody tr th:only-of-type {\n",
       "        vertical-align: middle;\n",
       "    }\n",
       "\n",
       "    .dataframe tbody tr th {\n",
       "        vertical-align: top;\n",
       "    }\n",
       "\n",
       "    .dataframe thead th {\n",
       "        text-align: right;\n",
       "    }\n",
       "</style>\n",
       "<table border=\"1\" class=\"dataframe\">\n",
       "  <thead>\n",
       "    <tr style=\"text-align: right;\">\n",
       "      <th></th>\n",
       "      <th>VendorID</th>\n",
       "      <th>lpep_pickup_datetime</th>\n",
       "      <th>lpep_dropoff_datetime</th>\n",
       "      <th>store_and_fwd_flag</th>\n",
       "      <th>RatecodeID</th>\n",
       "      <th>PULocationID</th>\n",
       "      <th>DOLocationID</th>\n",
       "      <th>passenger_count</th>\n",
       "      <th>trip_distance</th>\n",
       "      <th>fare_amount</th>\n",
       "      <th>extra</th>\n",
       "      <th>mta_tax</th>\n",
       "      <th>tip_amount</th>\n",
       "      <th>tolls_amount</th>\n",
       "      <th>ehail_fee</th>\n",
       "      <th>improvement_surcharge</th>\n",
       "      <th>total_amount</th>\n",
       "      <th>payment_type</th>\n",
       "      <th>trip_type</th>\n",
       "      <th>congestion_surcharge</th>\n",
       "    </tr>\n",
       "  </thead>\n",
       "  <tbody>\n",
       "    <tr>\n",
       "      <th>0</th>\n",
       "      <td>1</td>\n",
       "      <td>2021-07-01 00:30:52</td>\n",
       "      <td>2021-07-01 00:35:36</td>\n",
       "      <td>N</td>\n",
       "      <td>1</td>\n",
       "      <td>74</td>\n",
       "      <td>168</td>\n",
       "      <td>1</td>\n",
       "      <td>1.20</td>\n",
       "      <td>6</td>\n",
       "      <td>0.5</td>\n",
       "      <td>0.5</td>\n",
       "      <td>0</td>\n",
       "      <td>0</td>\n",
       "      <td>None</td>\n",
       "      <td>0.3</td>\n",
       "      <td>7.3</td>\n",
       "      <td>2</td>\n",
       "      <td>1</td>\n",
       "      <td>0</td>\n",
       "    </tr>\n",
       "    <tr>\n",
       "      <th>1</th>\n",
       "      <td>2</td>\n",
       "      <td>2021-07-01 00:25:36</td>\n",
       "      <td>2021-07-01 01:01:31</td>\n",
       "      <td>N</td>\n",
       "      <td>1</td>\n",
       "      <td>116</td>\n",
       "      <td>265</td>\n",
       "      <td>2</td>\n",
       "      <td>13.69</td>\n",
       "      <td>42</td>\n",
       "      <td>0.5</td>\n",
       "      <td>0.5</td>\n",
       "      <td>0</td>\n",
       "      <td>0</td>\n",
       "      <td>None</td>\n",
       "      <td>0.3</td>\n",
       "      <td>43.3</td>\n",
       "      <td>2</td>\n",
       "      <td>1</td>\n",
       "      <td>0</td>\n",
       "    </tr>\n",
       "    <tr>\n",
       "      <th>2</th>\n",
       "      <td>2</td>\n",
       "      <td>2021-07-01 00:05:58</td>\n",
       "      <td>2021-07-01 00:12:00</td>\n",
       "      <td>N</td>\n",
       "      <td>1</td>\n",
       "      <td>97</td>\n",
       "      <td>33</td>\n",
       "      <td>1</td>\n",
       "      <td>.95</td>\n",
       "      <td>6.5</td>\n",
       "      <td>0.5</td>\n",
       "      <td>0.5</td>\n",
       "      <td>2.34</td>\n",
       "      <td>0</td>\n",
       "      <td>None</td>\n",
       "      <td>0.3</td>\n",
       "      <td>10.14</td>\n",
       "      <td>1</td>\n",
       "      <td>1</td>\n",
       "      <td>0</td>\n",
       "    </tr>\n",
       "    <tr>\n",
       "      <th>3</th>\n",
       "      <td>2</td>\n",
       "      <td>2021-07-01 00:41:40</td>\n",
       "      <td>2021-07-01 00:47:23</td>\n",
       "      <td>N</td>\n",
       "      <td>1</td>\n",
       "      <td>74</td>\n",
       "      <td>42</td>\n",
       "      <td>1</td>\n",
       "      <td>1.24</td>\n",
       "      <td>6.5</td>\n",
       "      <td>0.5</td>\n",
       "      <td>0.5</td>\n",
       "      <td>0</td>\n",
       "      <td>0</td>\n",
       "      <td>None</td>\n",
       "      <td>0.3</td>\n",
       "      <td>7.8</td>\n",
       "      <td>2</td>\n",
       "      <td>1</td>\n",
       "      <td>0</td>\n",
       "    </tr>\n",
       "    <tr>\n",
       "      <th>4</th>\n",
       "      <td>2</td>\n",
       "      <td>2021-07-01 00:51:32</td>\n",
       "      <td>2021-07-01 00:58:46</td>\n",
       "      <td>N</td>\n",
       "      <td>1</td>\n",
       "      <td>42</td>\n",
       "      <td>244</td>\n",
       "      <td>1</td>\n",
       "      <td>1.10</td>\n",
       "      <td>7</td>\n",
       "      <td>0.5</td>\n",
       "      <td>0.5</td>\n",
       "      <td>0</td>\n",
       "      <td>0</td>\n",
       "      <td>None</td>\n",
       "      <td>0.3</td>\n",
       "      <td>8.3</td>\n",
       "      <td>2</td>\n",
       "      <td>1</td>\n",
       "      <td>0</td>\n",
       "    </tr>\n",
       "    <tr>\n",
       "      <th>...</th>\n",
       "      <td>...</td>\n",
       "      <td>...</td>\n",
       "      <td>...</td>\n",
       "      <td>...</td>\n",
       "      <td>...</td>\n",
       "      <td>...</td>\n",
       "      <td>...</td>\n",
       "      <td>...</td>\n",
       "      <td>...</td>\n",
       "      <td>...</td>\n",
       "      <td>...</td>\n",
       "      <td>...</td>\n",
       "      <td>...</td>\n",
       "      <td>...</td>\n",
       "      <td>...</td>\n",
       "      <td>...</td>\n",
       "      <td>...</td>\n",
       "      <td>...</td>\n",
       "      <td>...</td>\n",
       "      <td>...</td>\n",
       "    </tr>\n",
       "    <tr>\n",
       "      <th>83686</th>\n",
       "      <td>None</td>\n",
       "      <td>2021-07-02 07:59:00</td>\n",
       "      <td>2021-07-02 08:33:00</td>\n",
       "      <td>None</td>\n",
       "      <td>None</td>\n",
       "      <td>218</td>\n",
       "      <td>169</td>\n",
       "      <td>None</td>\n",
       "      <td>18.04</td>\n",
       "      <td>50.24</td>\n",
       "      <td>2.75</td>\n",
       "      <td>0</td>\n",
       "      <td>0</td>\n",
       "      <td>6.55</td>\n",
       "      <td>None</td>\n",
       "      <td>0.3</td>\n",
       "      <td>59.84</td>\n",
       "      <td>None</td>\n",
       "      <td>None</td>\n",
       "      <td>None</td>\n",
       "    </tr>\n",
       "    <tr>\n",
       "      <th>83687</th>\n",
       "      <td>None</td>\n",
       "      <td>2021-07-02 07:02:00</td>\n",
       "      <td>2021-07-02 07:18:00</td>\n",
       "      <td>None</td>\n",
       "      <td>None</td>\n",
       "      <td>74</td>\n",
       "      <td>137</td>\n",
       "      <td>None</td>\n",
       "      <td>5.56</td>\n",
       "      <td>19.16</td>\n",
       "      <td>0</td>\n",
       "      <td>0</td>\n",
       "      <td>3.66</td>\n",
       "      <td>0</td>\n",
       "      <td>None</td>\n",
       "      <td>0.3</td>\n",
       "      <td>25.87</td>\n",
       "      <td>None</td>\n",
       "      <td>None</td>\n",
       "      <td>None</td>\n",
       "    </tr>\n",
       "    <tr>\n",
       "      <th>83688</th>\n",
       "      <td>None</td>\n",
       "      <td>2021-07-02 07:53:00</td>\n",
       "      <td>2021-07-02 08:15:00</td>\n",
       "      <td>None</td>\n",
       "      <td>None</td>\n",
       "      <td>69</td>\n",
       "      <td>75</td>\n",
       "      <td>None</td>\n",
       "      <td>5.13</td>\n",
       "      <td>22.45</td>\n",
       "      <td>0</td>\n",
       "      <td>0</td>\n",
       "      <td>0</td>\n",
       "      <td>0</td>\n",
       "      <td>None</td>\n",
       "      <td>0.3</td>\n",
       "      <td>22.75</td>\n",
       "      <td>None</td>\n",
       "      <td>None</td>\n",
       "      <td>None</td>\n",
       "    </tr>\n",
       "    <tr>\n",
       "      <th>83689</th>\n",
       "      <td>None</td>\n",
       "      <td>2021-07-02 07:58:00</td>\n",
       "      <td>2021-07-02 08:30:00</td>\n",
       "      <td>None</td>\n",
       "      <td>None</td>\n",
       "      <td>117</td>\n",
       "      <td>82</td>\n",
       "      <td>None</td>\n",
       "      <td>12.58</td>\n",
       "      <td>48.62</td>\n",
       "      <td>2.75</td>\n",
       "      <td>0</td>\n",
       "      <td>0</td>\n",
       "      <td>2.45</td>\n",
       "      <td>None</td>\n",
       "      <td>0.3</td>\n",
       "      <td>54.12</td>\n",
       "      <td>None</td>\n",
       "      <td>None</td>\n",
       "      <td>None</td>\n",
       "    </tr>\n",
       "    <tr>\n",
       "      <th>83690</th>\n",
       "      <td>None</td>\n",
       "      <td>2021-07-02 07:00:00</td>\n",
       "      <td>2021-07-02 07:26:00</td>\n",
       "      <td>None</td>\n",
       "      <td>None</td>\n",
       "      <td>218</td>\n",
       "      <td>196</td>\n",
       "      <td>None</td>\n",
       "      <td>11.32</td>\n",
       "      <td>45.84</td>\n",
       "      <td>2.75</td>\n",
       "      <td>0</td>\n",
       "      <td>0</td>\n",
       "      <td>0</td>\n",
       "      <td>None</td>\n",
       "      <td>0.3</td>\n",
       "      <td>48.89</td>\n",
       "      <td>None</td>\n",
       "      <td>None</td>\n",
       "      <td>None</td>\n",
       "    </tr>\n",
       "  </tbody>\n",
       "</table>\n",
       "<p>83691 rows × 20 columns</p>\n",
       "</div>"
      ]
     },
     "metadata": {
      "application/vnd.databricks.v1+output": {
       "addedWidgets": {},
       "arguments": {},
       "data": "<div>\n<style scoped>\n    .dataframe tbody tr th:only-of-type {\n        vertical-align: middle;\n    }\n\n    .dataframe tbody tr th {\n        vertical-align: top;\n    }\n\n    .dataframe thead th {\n        text-align: right;\n    }\n</style>\n<table border=\"1\" class=\"dataframe\">\n  <thead>\n    <tr style=\"text-align: right;\">\n      <th></th>\n      <th>VendorID</th>\n      <th>lpep_pickup_datetime</th>\n      <th>lpep_dropoff_datetime</th>\n      <th>store_and_fwd_flag</th>\n      <th>RatecodeID</th>\n      <th>PULocationID</th>\n      <th>DOLocationID</th>\n      <th>passenger_count</th>\n      <th>trip_distance</th>\n      <th>fare_amount</th>\n      <th>extra</th>\n      <th>mta_tax</th>\n      <th>tip_amount</th>\n      <th>tolls_amount</th>\n      <th>ehail_fee</th>\n      <th>improvement_surcharge</th>\n      <th>total_amount</th>\n      <th>payment_type</th>\n      <th>trip_type</th>\n      <th>congestion_surcharge</th>\n    </tr>\n  </thead>\n  <tbody>\n    <tr>\n      <th>0</th>\n      <td>1</td>\n      <td>2021-07-01 00:30:52</td>\n      <td>2021-07-01 00:35:36</td>\n      <td>N</td>\n      <td>1</td>\n      <td>74</td>\n      <td>168</td>\n      <td>1</td>\n      <td>1.20</td>\n      <td>6</td>\n      <td>0.5</td>\n      <td>0.5</td>\n      <td>0</td>\n      <td>0</td>\n      <td>None</td>\n      <td>0.3</td>\n      <td>7.3</td>\n      <td>2</td>\n      <td>1</td>\n      <td>0</td>\n    </tr>\n    <tr>\n      <th>1</th>\n      <td>2</td>\n      <td>2021-07-01 00:25:36</td>\n      <td>2021-07-01 01:01:31</td>\n      <td>N</td>\n      <td>1</td>\n      <td>116</td>\n      <td>265</td>\n      <td>2</td>\n      <td>13.69</td>\n      <td>42</td>\n      <td>0.5</td>\n      <td>0.5</td>\n      <td>0</td>\n      <td>0</td>\n      <td>None</td>\n      <td>0.3</td>\n      <td>43.3</td>\n      <td>2</td>\n      <td>1</td>\n      <td>0</td>\n    </tr>\n    <tr>\n      <th>2</th>\n      <td>2</td>\n      <td>2021-07-01 00:05:58</td>\n      <td>2021-07-01 00:12:00</td>\n      <td>N</td>\n      <td>1</td>\n      <td>97</td>\n      <td>33</td>\n      <td>1</td>\n      <td>.95</td>\n      <td>6.5</td>\n      <td>0.5</td>\n      <td>0.5</td>\n      <td>2.34</td>\n      <td>0</td>\n      <td>None</td>\n      <td>0.3</td>\n      <td>10.14</td>\n      <td>1</td>\n      <td>1</td>\n      <td>0</td>\n    </tr>\n    <tr>\n      <th>3</th>\n      <td>2</td>\n      <td>2021-07-01 00:41:40</td>\n      <td>2021-07-01 00:47:23</td>\n      <td>N</td>\n      <td>1</td>\n      <td>74</td>\n      <td>42</td>\n      <td>1</td>\n      <td>1.24</td>\n      <td>6.5</td>\n      <td>0.5</td>\n      <td>0.5</td>\n      <td>0</td>\n      <td>0</td>\n      <td>None</td>\n      <td>0.3</td>\n      <td>7.8</td>\n      <td>2</td>\n      <td>1</td>\n      <td>0</td>\n    </tr>\n    <tr>\n      <th>4</th>\n      <td>2</td>\n      <td>2021-07-01 00:51:32</td>\n      <td>2021-07-01 00:58:46</td>\n      <td>N</td>\n      <td>1</td>\n      <td>42</td>\n      <td>244</td>\n      <td>1</td>\n      <td>1.10</td>\n      <td>7</td>\n      <td>0.5</td>\n      <td>0.5</td>\n      <td>0</td>\n      <td>0</td>\n      <td>None</td>\n      <td>0.3</td>\n      <td>8.3</td>\n      <td>2</td>\n      <td>1</td>\n      <td>0</td>\n    </tr>\n    <tr>\n      <th>...</th>\n      <td>...</td>\n      <td>...</td>\n      <td>...</td>\n      <td>...</td>\n      <td>...</td>\n      <td>...</td>\n      <td>...</td>\n      <td>...</td>\n      <td>...</td>\n      <td>...</td>\n      <td>...</td>\n      <td>...</td>\n      <td>...</td>\n      <td>...</td>\n      <td>...</td>\n      <td>...</td>\n      <td>...</td>\n      <td>...</td>\n      <td>...</td>\n      <td>...</td>\n    </tr>\n    <tr>\n      <th>83686</th>\n      <td>None</td>\n      <td>2021-07-02 07:59:00</td>\n      <td>2021-07-02 08:33:00</td>\n      <td>None</td>\n      <td>None</td>\n      <td>218</td>\n      <td>169</td>\n      <td>None</td>\n      <td>18.04</td>\n      <td>50.24</td>\n      <td>2.75</td>\n      <td>0</td>\n      <td>0</td>\n      <td>6.55</td>\n      <td>None</td>\n      <td>0.3</td>\n      <td>59.84</td>\n      <td>None</td>\n      <td>None</td>\n      <td>None</td>\n    </tr>\n    <tr>\n      <th>83687</th>\n      <td>None</td>\n      <td>2021-07-02 07:02:00</td>\n      <td>2021-07-02 07:18:00</td>\n      <td>None</td>\n      <td>None</td>\n      <td>74</td>\n      <td>137</td>\n      <td>None</td>\n      <td>5.56</td>\n      <td>19.16</td>\n      <td>0</td>\n      <td>0</td>\n      <td>3.66</td>\n      <td>0</td>\n      <td>None</td>\n      <td>0.3</td>\n      <td>25.87</td>\n      <td>None</td>\n      <td>None</td>\n      <td>None</td>\n    </tr>\n    <tr>\n      <th>83688</th>\n      <td>None</td>\n      <td>2021-07-02 07:53:00</td>\n      <td>2021-07-02 08:15:00</td>\n      <td>None</td>\n      <td>None</td>\n      <td>69</td>\n      <td>75</td>\n      <td>None</td>\n      <td>5.13</td>\n      <td>22.45</td>\n      <td>0</td>\n      <td>0</td>\n      <td>0</td>\n      <td>0</td>\n      <td>None</td>\n      <td>0.3</td>\n      <td>22.75</td>\n      <td>None</td>\n      <td>None</td>\n      <td>None</td>\n    </tr>\n    <tr>\n      <th>83689</th>\n      <td>None</td>\n      <td>2021-07-02 07:58:00</td>\n      <td>2021-07-02 08:30:00</td>\n      <td>None</td>\n      <td>None</td>\n      <td>117</td>\n      <td>82</td>\n      <td>None</td>\n      <td>12.58</td>\n      <td>48.62</td>\n      <td>2.75</td>\n      <td>0</td>\n      <td>0</td>\n      <td>2.45</td>\n      <td>None</td>\n      <td>0.3</td>\n      <td>54.12</td>\n      <td>None</td>\n      <td>None</td>\n      <td>None</td>\n    </tr>\n    <tr>\n      <th>83690</th>\n      <td>None</td>\n      <td>2021-07-02 07:00:00</td>\n      <td>2021-07-02 07:26:00</td>\n      <td>None</td>\n      <td>None</td>\n      <td>218</td>\n      <td>196</td>\n      <td>None</td>\n      <td>11.32</td>\n      <td>45.84</td>\n      <td>2.75</td>\n      <td>0</td>\n      <td>0</td>\n      <td>0</td>\n      <td>None</td>\n      <td>0.3</td>\n      <td>48.89</td>\n      <td>None</td>\n      <td>None</td>\n      <td>None</td>\n    </tr>\n  </tbody>\n</table>\n<p>83691 rows × 20 columns</p>\n</div>",
       "datasetInfos": [],
       "metadata": {},
       "removedWidgets": [],
       "textData": null,
       "type": "htmlSandbox"
      }
     },
     "output_type": "display_data"
    }
   ],
   "source": [
    "df = spark.read.csv(\"dbfs:/FileStore/tables/taxi_tripdata.csv\", header= True, sep=\",\")\n",
    "\n",
    "df.toPandas()"
   ]
  },
  {
   "cell_type": "code",
   "execution_count": 0,
   "metadata": {
    "application/vnd.databricks.v1+cell": {
     "cellMetadata": {
      "byteLimit": 2048000,
      "rowLimit": 10000
     },
     "inputWidgets": {},
     "nuid": "63e576db-db77-4dcd-8226-ece76ad25ce3",
     "showTitle": false,
     "tableResultSettingsMap": {},
     "title": ""
    }
   },
   "outputs": [
    {
     "output_type": "stream",
     "name": "stdout",
     "output_type": "stream",
     "text": [
      "VendorID: 32518\nlpep_pickup_datetime: 0\nlpep_dropoff_datetime: 0\nstore_and_fwd_flag: 32518\nRatecodeID: 32518\nPULocationID: 0\nDOLocationID: 0\npassenger_count: 32518\ntrip_distance: 0\nfare_amount: 0\nextra: 0\nmta_tax: 0\ntip_amount: 0\ntolls_amount: 0\nehail_fee: 83691\nimprovement_surcharge: 0\ntotal_amount: 0\npayment_type: 32518\ntrip_type: 32518\ncongestion_surcharge: 32518\n"
     ]
    }
   ],
   "source": [
    "#Preprocess the data\n",
    "# Count and print the number of null values for each column\n",
    "\n",
    "for column in df.columns:\n",
    "    null_count = df.filter(col(column).isNull()).count()\n",
    "    print(f\"{column}: {null_count}\")"
   ]
  },
  {
   "cell_type": "code",
   "execution_count": 0,
   "metadata": {
    "application/vnd.databricks.v1+cell": {
     "cellMetadata": {
      "byteLimit": 2048000,
      "rowLimit": 10000
     },
     "inputWidgets": {},
     "nuid": "28f64781-4834-4de0-a85e-e8cf63534cdc",
     "showTitle": false,
     "tableResultSettingsMap": {},
     "title": ""
    }
   },
   "outputs": [
    {
     "output_type": "stream",
     "name": "stdout",
     "output_type": "stream",
     "text": [
      "Remaining columns: ['VendorID', 'lpep_pickup_datetime', 'lpep_dropoff_datetime', 'store_and_fwd_flag', 'RatecodeID', 'PULocationID', 'DOLocationID', 'passenger_count', 'trip_distance', 'fare_amount', 'extra', 'mta_tax', 'tip_amount', 'tolls_amount', 'improvement_surcharge', 'total_amount', 'payment_type', 'trip_type', 'congestion_surcharge']\n"
     ]
    }
   ],
   "source": [
    "#Drop columns with 90% null values\n",
    "\n",
    "n = df.count()\n",
    "\n",
    "columns_to_drop = []\n",
    "\n",
    "for column in df.columns:\n",
    "    null_count = df.filter(col(column).isNull()).count()\n",
    "    null_percentage = (null_count / n) * 100\n",
    "    if null_percentage > 90:  \n",
    "        columns_to_drop.append(column)\n",
    "\n",
    "df = df.drop(*columns_to_drop)\n",
    "\n",
    "print(\"Remaining columns:\", df.columns)\n",
    "\n"
   ]
  },
  {
   "cell_type": "code",
   "execution_count": 0,
   "metadata": {
    "application/vnd.databricks.v1+cell": {
     "cellMetadata": {
      "byteLimit": 2048000,
      "rowLimit": 10000
     },
     "inputWidgets": {},
     "nuid": "3d85b372-def6-48fd-a0c4-58487afb00f7",
     "showTitle": false,
     "tableResultSettingsMap": {},
     "title": ""
    }
   },
   "outputs": [
    {
     "output_type": "stream",
     "name": "stdout",
     "output_type": "stream",
     "text": [
      "+--------+--------------------+---------------------+------------------+----------+------------+------------+---------------+-------------+-----------+-----+-------+----------+------------+---------------------+------------+------------+---------+--------------------+\n|VendorID|lpep_pickup_datetime|lpep_dropoff_datetime|store_and_fwd_flag|RatecodeID|PULocationID|DOLocationID|passenger_count|trip_distance|fare_amount|extra|mta_tax|tip_amount|tolls_amount|improvement_surcharge|total_amount|payment_type|trip_type|congestion_surcharge|\n+--------+--------------------+---------------------+------------------+----------+------------+------------+---------------+-------------+-----------+-----+-------+----------+------------+---------------------+------------+------------+---------+--------------------+\n|       1| 2021-07-01 00:30:52|  2021-07-01 00:35:36|                 N|         1|          74|         168|              1|         1.20|          6|  0.5|    0.5|         0|           0|                  0.3|         7.3|           2|        1|                   0|\n|       2| 2021-07-01 00:25:36|  2021-07-01 01:01:31|                 N|         1|         116|         265|              2|        13.69|         42|  0.5|    0.5|         0|           0|                  0.3|        43.3|           2|        1|                   0|\n|       2| 2021-07-01 00:05:58|  2021-07-01 00:12:00|                 N|         1|          97|          33|              1|          .95|        6.5|  0.5|    0.5|      2.34|           0|                  0.3|       10.14|           1|        1|                   0|\n|       2| 2021-07-01 00:41:40|  2021-07-01 00:47:23|                 N|         1|          74|          42|              1|         1.24|        6.5|  0.5|    0.5|         0|           0|                  0.3|         7.8|           2|        1|                   0|\n|       2| 2021-07-01 00:51:32|  2021-07-01 00:58:46|                 N|         1|          42|         244|              1|         1.10|          7|  0.5|    0.5|         0|           0|                  0.3|         8.3|           2|        1|                   0|\n+--------+--------------------+---------------------+------------------+----------+------------+------------+---------------+-------------+-----------+-----+-------+----------+------------+---------------------+------------+------------+---------+--------------------+\nonly showing top 5 rows\n\n"
     ]
    }
   ],
   "source": [
    "# Loop through each column to fill nulls with mode\n",
    "\n",
    "for i in df.columns:\n",
    "    x = df.select(mode(i).alias(\"nn\")).head()[0]\n",
    "    if df.filter(col(i).isNull()).count()>0:\n",
    "        df = df.fillna({i:x})\n",
    "\n",
    "df.show(5)\n"
   ]
  },
  {
   "cell_type": "code",
   "execution_count": 0,
   "metadata": {
    "application/vnd.databricks.v1+cell": {
     "cellMetadata": {
      "byteLimit": 2048000,
      "rowLimit": 10000
     },
     "inputWidgets": {},
     "nuid": "fde5fec9-2026-4bab-9348-f050a15e7cc3",
     "showTitle": false,
     "tableResultSettingsMap": {},
     "title": ""
    }
   },
   "outputs": [
    {
     "output_type": "stream",
     "name": "stdout",
     "output_type": "stream",
     "text": [
      "VendorID: 0\nlpep_pickup_datetime: 0\nlpep_dropoff_datetime: 0\nstore_and_fwd_flag: 0\nRatecodeID: 0\nPULocationID: 0\nDOLocationID: 0\npassenger_count: 0\ntrip_distance: 0\nfare_amount: 0\nextra: 0\nmta_tax: 0\ntip_amount: 0\ntolls_amount: 0\nimprovement_surcharge: 0\ntotal_amount: 0\npayment_type: 0\ntrip_type: 0\ncongestion_surcharge: 0\n"
     ]
    }
   ],
   "source": [
    "# Loop through each column to count null values\n",
    "for i in df.columns:\n",
    "    null_count = df.filter(col(i).isNull()).count()  # Count null values in each column\n",
    "    print(f\"{i}: {null_count}\")"
   ]
  },
  {
   "cell_type": "markdown",
   "metadata": {
    "application/vnd.databricks.v1+cell": {
     "cellMetadata": {
      "byteLimit": 2048000,
      "rowLimit": 10000
     },
     "inputWidgets": {},
     "nuid": "03bfc872-5256-4ab4-85ca-652429c63b41",
     "showTitle": false,
     "tableResultSettingsMap": {},
     "title": ""
    }
   },
   "source": [
    "Data Analysis"
   ]
  },
  {
   "cell_type": "code",
   "execution_count": 0,
   "metadata": {
    "application/vnd.databricks.v1+cell": {
     "cellMetadata": {
      "byteLimit": 2048000,
      "rowLimit": 10000
     },
     "inputWidgets": {},
     "nuid": "f97347ef-cc6f-4d22-9f1d-15e9cc5d0032",
     "showTitle": false,
     "tableResultSettingsMap": {},
     "title": ""
    }
   },
   "outputs": [
    {
     "output_type": "stream",
     "name": "stdout",
     "output_type": "stream",
     "text": [
      "Total number of trips recorded: 83691\n"
     ]
    }
   ],
   "source": [
    "#1. How many trips Recorded\n",
    "\n",
    "total_trips = df.count()\n",
    "print(f\"Total number of trips recorded: {total_trips}\")"
   ]
  },
  {
   "cell_type": "code",
   "execution_count": 0,
   "metadata": {
    "application/vnd.databricks.v1+cell": {
     "cellMetadata": {
      "byteLimit": 2048000,
      "rowLimit": 10000
     },
     "inputWidgets": {},
     "nuid": "98fbacb0-40ee-4812-bacf-98fa2d6cc119",
     "showTitle": false,
     "tableResultSettingsMap": {},
     "title": ""
    }
   },
   "outputs": [
    {
     "output_type": "stream",
     "name": "stdout",
     "output_type": "stream",
     "text": [
      "+---------------------+\n|Average_Trip_Distance|\n+---------------------+\n|   194.35469931055877|\n+---------------------+\n\n"
     ]
    }
   ],
   "source": [
    "#2. What is the Average Trip Distance\n",
    "\n",
    "df.select(mean(\"trip_distance\").alias(\"Average_Trip_Distance\")).show()"
   ]
  },
  {
   "cell_type": "code",
   "execution_count": 0,
   "metadata": {
    "application/vnd.databricks.v1+cell": {
     "cellMetadata": {
      "byteLimit": 2048000,
      "rowLimit": 10000
     },
     "inputWidgets": {},
     "nuid": "35a8b95d-3ec8-49fb-82c1-6aaf1cba2531",
     "showTitle": false,
     "tableResultSettingsMap": {},
     "title": ""
    }
   },
   "outputs": [
    {
     "output_type": "stream",
     "name": "stdout",
     "output_type": "stream",
     "text": [
      "+------------+-----+\n|PULocationID|count|\n+------------+-----+\n|          74| 8770|\n|          75| 7713|\n|          41| 4761|\n|          42| 3229|\n|          95| 2486|\n+------------+-----+\n\n"
     ]
    }
   ],
   "source": [
    "#3. What are the top 5 PULocationID where trips start from?\n",
    "\n",
    "df.groupBy(\"PULocationID\") \\\n",
    "    .count() \\\n",
    "    .orderBy(col(\"count\").desc()) \\\n",
    "    .limit(5) \\\n",
    "    .show()"
   ]
  },
  {
   "cell_type": "code",
   "execution_count": 0,
   "metadata": {
    "application/vnd.databricks.v1+cell": {
     "cellMetadata": {
      "byteLimit": 2048000,
      "rowLimit": 10000
     },
     "inputWidgets": {},
     "nuid": "c3e96c67-394b-4355-b8d1-70b325a17567",
     "showTitle": false,
     "tableResultSettingsMap": {},
     "title": ""
    }
   },
   "outputs": [
    {
     "output_type": "stream",
     "name": "stdout",
     "output_type": "stream",
     "text": [
      "+------------+-----+\n|DOLocationID|count|\n+------------+-----+\n|          74| 3666|\n|          75| 3122|\n|          42| 2904|\n|          41| 2527|\n|         236| 1700|\n+------------+-----+\n\n"
     ]
    }
   ],
   "source": [
    "#4. What are the top 5 DOLocationID where trips end?\n",
    "\n",
    "df.groupBy(\"DOLocationID\") \\\n",
    "    .count() \\\n",
    "    .orderBy(col(\"count\").desc()) \\\n",
    "    .limit(5) \\\n",
    "    .show()"
   ]
  },
  {
   "cell_type": "code",
   "execution_count": 0,
   "metadata": {
    "application/vnd.databricks.v1+cell": {
     "cellMetadata": {
      "byteLimit": 2048000,
      "rowLimit": 10000
     },
     "inputWidgets": {},
     "nuid": "58bf9006-d1d0-487a-be29-ab4cce40f747",
     "showTitle": false,
     "tableResultSettingsMap": {},
     "title": ""
    }
   },
   "outputs": [
    {
     "output_type": "stream",
     "name": "stdout",
     "output_type": "stream",
     "text": [
      "+------------+-----+\n|Pickup_Hours|count|\n+------------+-----+\n|          10| 6096|\n|          11| 6092|\n|           9| 5798|\n|          12| 5766|\n|          15| 5744|\n+------------+-----+\n\n"
     ]
    }
   ],
   "source": [
    "#5. Peak Hours for Someone to start ride\n",
    "\n",
    "df.groupBy(hour(\"lpep_pickup_datetime\").alias(\"Pickup_Hours\")) \\\n",
    "    .count() \\\n",
    "    .orderBy(col(\"count\").desc()) \\\n",
    "    .limit(5) \\\n",
    "    .show()"
   ]
  },
  {
   "cell_type": "code",
   "execution_count": 0,
   "metadata": {
    "application/vnd.databricks.v1+cell": {
     "cellMetadata": {
      "byteLimit": 2048000,
      "rowLimit": 10000
     },
     "inputWidgets": {},
     "nuid": "28b99f17-3073-4635-a77b-8b7f1627a0c6",
     "showTitle": false,
     "tableResultSettingsMap": {},
     "title": ""
    }
   },
   "outputs": [
    {
     "output_type": "stream",
     "name": "stdout",
     "output_type": "stream",
     "text": [
      "+------------+-----+\n|payment_type|count|\n+------------+-----+\n|           1|62508|\n|           2|20831|\n|           3|  307|\n|           4|   44|\n|           5|    1|\n+------------+-----+\n\n"
     ]
    }
   ],
   "source": [
    "#6. What is the distribution of trips based on the payment type?\n",
    "\n",
    "df.groupBy(\"payment_type\") \\\n",
    "    .count() \\\n",
    "    .orderBy(\"payment_type\") \\\n",
    "    .show()"
   ]
  },
  {
   "cell_type": "code",
   "execution_count": 0,
   "metadata": {
    "application/vnd.databricks.v1+cell": {
     "cellMetadata": {
      "byteLimit": 2048000,
      "rowLimit": 10000
     },
     "inputWidgets": {},
     "nuid": "8c679b2d-ca39-42a2-98c0-394fd855e50d",
     "showTitle": false,
     "tableResultSettingsMap": {},
     "title": ""
    }
   },
   "outputs": [
    {
     "output_type": "stream",
     "name": "stdout",
     "output_type": "stream",
     "text": [
      "+----------+-----+\n|RatecodeID|count|\n+----------+-----+\n|         1|81512|\n|         5| 1954|\n|         2|  158|\n|         4|   41|\n|         3|   26|\n+----------+-----+\n\n"
     ]
    }
   ],
   "source": [
    "#7. What is the most common RatecodeID in the dataset?\n",
    "\n",
    "df.groupBy(\"RatecodeID\") \\\n",
    "    .count() \\\n",
    "    .orderBy(col(\"count\").desc()) \\\n",
    "    .limit(5) \\\n",
    "    .show()"
   ]
  },
  {
   "cell_type": "code",
   "execution_count": 0,
   "metadata": {
    "application/vnd.databricks.v1+cell": {
     "cellMetadata": {
      "byteLimit": 2048000,
      "rowLimit": 10000
     },
     "inputWidgets": {},
     "nuid": "d3f578a5-5791-44a3-a660-866d56f63bd6",
     "showTitle": false,
     "tableResultSettingsMap": {},
     "title": ""
    }
   },
   "outputs": [
    {
     "output_type": "stream",
     "name": "stdout",
     "output_type": "stream",
     "text": [
      "+--------+------------------+\n|VendorID|      Average_Fare|\n+--------+------------------+\n|       1|17.013627772674567|\n|       2|24.925072694291224|\n+--------+------------------+\n\n"
     ]
    }
   ],
   "source": [
    "#8. What is the Average fare for different vendors?\n",
    "\n",
    "df = df.withColumn(\"total_amount\", col(\"total_amount\").cast(DoubleType()))\n",
    "df.groupBy(\"VendorID\") \\\n",
    "    .mean(\"total_amount\") \\\n",
    "    .withColumnRenamed(\"avg(total_amount)\", \"Average_Fare\") \\\n",
    "    .show()"
   ]
  },
  {
   "cell_type": "code",
   "execution_count": 0,
   "metadata": {
    "application/vnd.databricks.v1+cell": {
     "cellMetadata": {
      "byteLimit": 2048000,
      "rowLimit": 10000
     },
     "inputWidgets": {},
     "nuid": "87f70d70-4f52-4bd6-9f55-150d9bda9af9",
     "showTitle": false,
     "tableResultSettingsMap": {},
     "title": ""
    }
   },
   "outputs": [
    {
     "output_type": "stream",
     "name": "stdout",
     "output_type": "stream",
     "text": [
      "+--------------------+------------------------------+\n|Average_tolls_amount|Tolls_amount_greater_than_zero|\n+--------------------+------------------------------+\n|   6.413921953613792|                          8149|\n+--------------------+------------------------------+\n\n"
     ]
    }
   ],
   "source": [
    "#9. How many trips have a tolls amount greater tahn zero?\n",
    "\n",
    "filtered_df = df.filter(col(\"tolls_amount\") > 0)\n",
    "\n",
    "result = filtered_df.agg(\n",
    "    mean(\"tolls_amount\").alias(\"Average_tolls_amount\"),\n",
    "    count(\"tolls_amount\").alias(\"Tolls_amount_greater_than_zero\")\n",
    ")\n",
    "\n",
    "result.show()"
   ]
  },
  {
   "cell_type": "code",
   "execution_count": 0,
   "metadata": {
    "application/vnd.databricks.v1+cell": {
     "cellMetadata": {
      "byteLimit": 2048000,
      "rowLimit": 10000
     },
     "inputWidgets": {},
     "nuid": "e8c3e551-cd4d-4de6-ae66-08e3cd2a9be7",
     "showTitle": false,
     "tableResultSettingsMap": {},
     "title": ""
    }
   },
   "outputs": [
    {
     "output_type": "stream",
     "name": "stdout",
     "output_type": "stream",
     "text": [
      "+--------------+-----+\n|         TRIPS|count|\n+--------------+-----+\n|     City Trip|81931|\n|InterCity Trip| 1760|\n+--------------+-----+\n\n"
     ]
    }
   ],
   "source": [
    "#10. What is the distribution of trip types?\n",
    "\n",
    "df = df.withColumn(\n",
    "    \"TRIPS\", \n",
    "    when(df[\"trip_type\"] == 1, \"City Trip\")\n",
    "    .when(df[\"trip_type\"] == 2, \"InterCity Trip\")\n",
    "    .otherwise(\"Other\")\n",
    ")\n",
    "\n",
    "df.groupBy(\"TRIPS\").count().orderBy(col(\"count\").desc()).show()\n"
   ]
  },
  {
   "cell_type": "code",
   "execution_count": 0,
   "metadata": {
    "application/vnd.databricks.v1+cell": {
     "cellMetadata": {
      "byteLimit": 2048000,
      "rowLimit": 10000
     },
     "inputWidgets": {},
     "nuid": "e276140f-5276-4710-b9b8-20955d8c6b5b",
     "showTitle": false,
     "tableResultSettingsMap": {},
     "title": ""
    }
   },
   "outputs": [
    {
     "output_type": "stream",
     "name": "stdout",
     "output_type": "stream",
     "text": [
      "+-----------+-----+\n|Day of Week|count|\n+-----------+-----+\n|        Sat|14964|\n|        Fri|14929|\n|        Sun|12862|\n|        Thu|11752|\n|        Wed|10875|\n|        Tue|10403|\n|        Mon| 7906|\n+-----------+-----+\n\n"
     ]
    }
   ],
   "source": [
    "#11. What is the most common day of the week for trips?\n",
    "\n",
    "df = df.withColumn(\"DATE\", col(\"lpep_pickup_datetime\").cast(\"date\")) \\\n",
    "       .withColumn(\"Dayw\", dayofweek(col(\"lpep_pickup_datetime\")))\n",
    "\n",
    "df = df.withColumn(\"Dw\", when(df[\"Dayw\"] == 1, \"Mon\")\n",
    "                        .when(df[\"Dayw\"] == 2, \"Tue\")\n",
    "                        .when(df[\"Dayw\"] == 3, \"Wed\")\n",
    "                        .when(df[\"Dayw\"] == 4, \"Thu\")\n",
    "                        .when(df[\"Dayw\"] == 5, \"Fri\")\n",
    "                        .when(df[\"Dayw\"] == 6, \"Sat\")\n",
    "                        .when(df[\"Dayw\"] == 7, \"Sun\"))\n",
    "\n",
    "df.groupBy(col(\"Dw\").alias(\"Day of Week\")).count().orderBy(col(\"count\").desc()).show()\n",
    "\n",
    "df = df.drop(\"DATE\", \"Dw\", \"Dayw\")"
   ]
  },
  {
   "cell_type": "code",
   "execution_count": 0,
   "metadata": {
    "application/vnd.databricks.v1+cell": {
     "cellMetadata": {
      "byteLimit": 2048000,
      "rowLimit": 10000
     },
     "inputWidgets": {},
     "nuid": "6f305caf-59e3-476b-b5d8-ac6ccf35813c",
     "showTitle": false,
     "tableResultSettingsMap": {},
     "title": ""
    }
   },
   "outputs": [
    {
     "output_type": "stream",
     "name": "stdout",
     "output_type": "stream",
     "text": [
      "+------------------+\n|Average_Tip_Amount|\n+------------------+\n| 1.058618130981837|\n+------------------+\n\n"
     ]
    }
   ],
   "source": [
    "#12. What is the average tip_amount?\n",
    "\n",
    "df.select(mean(\"tip_amount\").alias(\"Average_Tip_Amount\")).show()"
   ]
  },
  {
   "cell_type": "code",
   "execution_count": 0,
   "metadata": {
    "application/vnd.databricks.v1+cell": {
     "cellMetadata": {
      "byteLimit": 2048000,
      "rowLimit": 10000
     },
     "inputWidgets": {},
     "nuid": "86b9eb4f-500d-4696-92c7-9975beccc61b",
     "showTitle": false,
     "tableResultSettingsMap": {},
     "title": ""
    }
   },
   "outputs": [
    {
     "output_type": "stream",
     "name": "stdout",
     "output_type": "stream",
     "text": [
      "Correlation between trip distance and total amount paid: 0.0250718211669305\n"
     ]
    }
   ],
   "source": [
    "#13. Is there any correlation between trip distance and total amount paid?\n",
    "\n",
    "correlation = df.select(corr(\"trip_distance\", \"total_amount\")).first()[0]\n",
    "\n",
    "print(f\"Correlation between trip distance and total amount paid: {correlation}\")\n"
   ]
  },
  {
   "cell_type": "code",
   "execution_count": 0,
   "metadata": {
    "application/vnd.databricks.v1+cell": {
     "cellMetadata": {
      "byteLimit": 2048000,
      "rowLimit": 10000
     },
     "inputWidgets": {},
     "nuid": "e2127688-feca-47f6-81de-68e19073e93a",
     "showTitle": false,
     "tableResultSettingsMap": {},
     "title": ""
    }
   },
   "outputs": [],
   "source": []
  }
 ],
 "metadata": {
  "application/vnd.databricks.v1+notebook": {
   "computePreferences": null,
   "dashboards": [],
   "environmentMetadata": {
    "base_environment": "",
    "client": "1"
   },
   "language": "python",
   "notebookMetadata": {
    "pythonIndentUnit": 4
   },
   "notebookName": "NYC-Taxi-DataAnalysis",
   "widgets": {}
  }
 },
 "nbformat": 4,
 "nbformat_minor": 0
}
